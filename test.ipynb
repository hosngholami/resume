{
 "cells": [
  {
   "cell_type": "code",
   "execution_count": 1,
   "id": "bf11ff8b-c165-4a88-820f-fedbbe61b09f",
   "metadata": {},
   "outputs": [],
   "source": [
    "import re"
   ]
  },
  {
   "cell_type": "code",
   "execution_count": 34,
   "id": "601dbf19-bb26-4e9f-a56e-6a103a291072",
   "metadata": {},
   "outputs": [
    {
     "name": "stdout",
     "output_type": "stream",
     "text": [
      "None\n"
     ]
    }
   ],
   "source": [
    "text =  ' s'\n",
    "pattern = r\"\\A\\s*\\Z\"\n",
    "print(re.search(pattern, text))\n"
   ]
  },
  {
   "cell_type": "code",
   "execution_count": null,
   "id": "a8cb7501-5288-4886-8e3b-3d749743226d",
   "metadata": {},
   "outputs": [],
   "source": []
  },
  {
   "cell_type": "code",
   "execution_count": null,
   "id": "1f8d4abf-4c01-4aa0-a3ed-8dbbb82b270e",
   "metadata": {},
   "outputs": [],
   "source": []
  },
  {
   "cell_type": "code",
   "execution_count": null,
   "id": "77a9282b-c096-4c26-849c-b709ab8760e5",
   "metadata": {},
   "outputs": [],
   "source": []
  },
  {
   "cell_type": "code",
   "execution_count": null,
   "id": "628251e6-1c1e-4016-a974-9c98ef5c8ec3",
   "metadata": {},
   "outputs": [],
   "source": []
  },
  {
   "cell_type": "code",
   "execution_count": null,
   "id": "4445f271-2be2-40c6-9c4e-93f49a7168ff",
   "metadata": {},
   "outputs": [],
   "source": []
  }
 ],
 "metadata": {
  "kernelspec": {
   "display_name": "Python 3 (ipykernel)",
   "language": "python",
   "name": "python3"
  },
  "language_info": {
   "codemirror_mode": {
    "name": "ipython",
    "version": 3
   },
   "file_extension": ".py",
   "mimetype": "text/x-python",
   "name": "python",
   "nbconvert_exporter": "python",
   "pygments_lexer": "ipython3",
   "version": "3.11.5"
  }
 },
 "nbformat": 4,
 "nbformat_minor": 5
}
