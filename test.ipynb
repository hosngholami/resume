{
 "cells": [
  {
   "cell_type": "code",
   "execution_count": 1,
   "id": "bf11ff8b-c165-4a88-820f-fedbbe61b09f",
   "metadata": {},
   "outputs": [],
   "source": [
    "import pandas as pd"
   ]
  },
  {
   "cell_type": "code",
   "execution_count": 2,
   "id": "b4eab0d9-82e4-4eaf-a88a-0543c9d39223",
   "metadata": {},
   "outputs": [],
   "source": [
    "def load_data():\n",
    "    data = pd.read_csv('data/resume.csv')\n",
    "    return data"
   ]
  },
  {
   "cell_type": "code",
   "execution_count": 13,
   "id": "99b1dfbb-3308-4c3a-ad3d-9d8e89cd4166",
   "metadata": {},
   "outputs": [],
   "source": [
    "import re\n",
    "# data = load_data()\n",
    "text = \"\"\"\n",
    "حکیمیه خیابان گلریز گلریز دو\n",
    "خ ابن باویه-ک برادران محمدی-ک صفری-\n",
    "خ سید جمال الدین اسد آبادی - خیابان پانزدهم رودکی - بین خیابان ابن سینا و خیابان فراهانی پور -\n",
    "میدان رازی - خیابان رباط کریم - خیابان زربافیان-\n",
    "شهرک گلستان - بلوار کاشان - قائم \"\"\"\n",
    "# text = re.findall(r\"(\\s*)([خ])[^\\w]\" ,text)\n",
    "# print(text)\n",
    "\n",
    "for match in re.finditer(r\"(\\s*)([خ])[^\\w]\" ,text):\n",
    "    print(match)\n"
   ]
  },
  {
   "cell_type": "code",
   "execution_count": null,
   "id": "12a6d28a-f952-4098-bb72-2e187f56e07a",
   "metadata": {},
   "outputs": [],
   "source": []
  }
 ],
 "metadata": {
  "kernelspec": {
   "display_name": "Python 3 (ipykernel)",
   "language": "python",
   "name": "python3"
  },
  "language_info": {
   "codemirror_mode": {
    "name": "ipython",
    "version": 3
   },
   "file_extension": ".py",
   "mimetype": "text/x-python",
   "name": "python",
   "nbconvert_exporter": "python",
   "pygments_lexer": "ipython3",
   "version": "3.11.5"
  }
 },
 "nbformat": 4,
 "nbformat_minor": 5
}
