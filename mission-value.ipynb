{
 "cells": [
  {
   "cell_type": "markdown",
   "id": "b67ed530-9891-479c-84d5-cf03d539305a",
   "metadata": {},
   "source": [
    "## Remove Mission Value"
   ]
  },
  {
   "cell_type": "markdown",
   "id": "9cee81e3-5f1a-40b2-ae6e-79281551e31b",
   "metadata": {},
   "source": [
    "#### Load Data"
   ]
  },
  {
   "cell_type": "code",
   "execution_count": 20,
   "id": "ef23cf01-03c9-4d2c-b950-4f3f5929ed47",
   "metadata": {},
   "outputs": [],
   "source": [
    "import pandas as pd"
   ]
  },
  {
   "cell_type": "code",
   "execution_count": 21,
   "id": "dcbd1451-b0bd-46d1-974f-31bfa4e578e5",
   "metadata": {},
   "outputs": [],
   "source": [
    "def load_data():\n",
    "    data = pd.read_csv('data/resume.csv')\n",
    "    return data"
   ]
  },
  {
   "cell_type": "code",
   "execution_count": 22,
   "id": "3307e0ff-68b7-4f90-9cd0-00b479e30984",
   "metadata": {},
   "outputs": [],
   "source": [
    "def get_missing_value(data):\n",
    "    missing_value = data.isnull().sum()\n",
    "    return missing_value\n",
    "    "
   ]
  },
  {
   "cell_type": "markdown",
   "id": "c9ab627e-89cb-434c-8e5e-d5970f4a2084",
   "metadata": {},
   "source": [
    "#### Display missing value"
   ]
  },
  {
   "cell_type": "code",
   "execution_count": 24,
   "id": "480601d3-80bc-4b9a-8505-6e8445d4d823",
   "metadata": {},
   "outputs": [
    {
     "data": {
      "text/plain": [
       "نام                     0\n",
       "نام خانوادگی            0\n",
       "آدرس                  230\n",
       "جنسیت                 803\n",
       "معدل                    0\n",
       "مقطع تحصیلی           280\n",
       "رشته تحصیلی             0\n",
       "سن                      0\n",
       "مهارت                   0\n",
       "تجربه کاری(به سال)      0\n",
       "dtype: int64"
      ]
     },
     "execution_count": 24,
     "metadata": {},
     "output_type": "execute_result"
    }
   ],
   "source": [
    "data = load_data()\n",
    "missin_value = get_missing_value(data)\n",
    "missin_value"
   ]
  },
  {
   "cell_type": "markdown",
   "id": "764b638f-21ca-4d4f-aef9-800ba0b41028",
   "metadata": {},
   "source": [
    "#### remove white space in row"
   ]
  },
  {
   "cell_type": "code",
   "execution_count": 26,
   "id": "b2330467-dc30-48ca-b880-8ae9bf531f82",
   "metadata": {},
   "outputs": [],
   "source": [
    "import re\n",
    "pattern = r\"\\A\\s*\\Z\" ## پیدا کردن سطر هایی که فقط space ذخیره شده اند\n",
    "for i in range(len(data)-1):\n",
    "    if (re.search(pattern ,str(data.loc[i, 'نام'])) != None ):\n",
    "        data.loc[i, 'نام'] = re.sub(re.compile(pattern), '', data.loc[i, 'نام'])\n",
    "        \n",
    "    if (re.search(pattern ,str(data.loc[i, 'نام خانوادگی'])) != None ):\n",
    "        data.loc[i, 'نام خانوادگی'] = re.sub(re.compile(pattern), '', data.loc[i, 'نام خانوادگی'])\n",
    "        \n",
    "    if (re.search(pattern ,str(data.loc[i, 'آدرس'])) != None ):\n",
    "        data.loc[i, 'آدرس'] = re.sub(re.compile(pattern), '', data.loc[i, 'آدرس'])\n",
    "\n",
    "    if (re.search(pattern ,str(data.loc[i, 'جنسیت'])) != None ):\n",
    "        data.loc[i, 'جنسیت'] = re.sub(re.compile(pattern), '', data.loc[i, 'جنسیت'])\n",
    "\n",
    "    if (re.search(pattern ,str(data.loc[i, 'معدل'])) != None ):\n",
    "        data.loc[i, 'معدل'] = re.sub(re.compile(pattern), '', data.loc[i, 'معدل'])\n",
    "    \n",
    "\n",
    "    if (re.search(pattern ,str(data.loc[i, 'مقطع تحصیلی'])) != None ):\n",
    "        data.loc[i, 'مقطع تحصیلی'] = re.sub(re.compile(pattern), '', data.loc[i, 'مقطع تحصیلی'])\n",
    "    \n",
    "    if (re.search(pattern ,str(data.loc[i, 'رشته تحصیلی'])) != None ):\n",
    "        data.loc[i, 'رشته تحصیلی'] = re.sub(re.compile(pattern), '', data.loc[i, 'رشته تحصیلی'])\n",
    "        \n",
    "    if (re.search(pattern ,str(data.loc[i, 'سن'])) != None ):\n",
    "        data.loc[i, 'سن'] = re.sub(re.compile(pattern), '', data.loc[i, 'سن'])\n",
    "    \n",
    "    if (re.search(pattern ,str(data.loc[i, 'مهارت'])) != None ):\n",
    "        data.loc[i, 'مهارت'] = re.sub(re.compile(pattern), '', data.loc[i, 'مهارت'])\n",
    "\n",
    "    if (re.search(pattern ,str(data.loc[i, 'تجربه کاری(به سال)'])) != None ):\n",
    "        data.loc[i, 'تجربه کاری(به سال)'] = re.sub(re.compile(pattern), '', data.loc[i, 'تجربه کاری(به سال)'])\n",
    "\n",
    "data.to_csv('data/resume.csv')\n"
   ]
  },
  {
   "cell_type": "code",
   "execution_count": 27,
   "id": "8e2866c2-0232-4e73-ab28-0075e5771ade",
   "metadata": {},
   "outputs": [
    {
     "data": {
      "text/plain": [
       "Unnamed: 0              0\n",
       "نام                     0\n",
       "نام خانوادگی           16\n",
       "آدرس                  230\n",
       "جنسیت                 803\n",
       "معدل                    0\n",
       "مقطع تحصیلی           280\n",
       "رشته تحصیلی           296\n",
       "سن                      0\n",
       "مهارت                 293\n",
       "تجربه کاری(به سال)      0\n",
       "dtype: int64"
      ]
     },
     "execution_count": 27,
     "metadata": {},
     "output_type": "execute_result"
    }
   ],
   "source": [
    "data = load_data()\n",
    "missin_value = get_missing_value(data)\n",
    "missin_value"
   ]
  },
  {
   "cell_type": "markdown",
   "id": "caf0968a-e2dc-4580-a9f2-64191989a0d5",
   "metadata": {},
   "source": [
    "#### Remove missin value name"
   ]
  },
  {
   "cell_type": "code",
   "execution_count": 28,
   "id": "c22433bf-fc3d-4703-989b-32f4a37cbcf6",
   "metadata": {},
   "outputs": [
    {
     "data": {
      "text/plain": [
       "Unnamed: 0.1            0\n",
       "Unnamed: 0              0\n",
       "نام                     0\n",
       "نام خانوادگی            0\n",
       "آدرس                  182\n",
       "جنسیت                   0\n",
       "معدل                    0\n",
       "مقطع تحصیلی           234\n",
       "رشته تحصیلی           243\n",
       "سن                      0\n",
       "مهارت                 225\n",
       "تجربه کاری(به سال)      0\n",
       "dtype: int64"
      ]
     },
     "execution_count": 28,
     "metadata": {},
     "output_type": "execute_result"
    }
   ],
   "source": [
    "data.dropna(subset=['نام', 'نام خانوادگی', 'جنسیت'], inplace=True)\n",
    "data.to_csv('data/resume.csv')\n",
    "data = load_data()\n",
    "missin_value = get_missing_value(data)\n",
    "missin_value"
   ]
  },
  {
   "cell_type": "markdown",
   "id": "046c6b48-7c7a-4b70-bd28-b4aa64eacd1b",
   "metadata": {
    "editable": true,
    "slideshow": {
     "slide_type": ""
    },
    "tags": []
   },
   "source": [
    "#### Remove null value for grade"
   ]
  },
  {
   "cell_type": "code",
   "execution_count": 15,
   "id": "7159e1d6-d11f-4282-b08c-e068e49662e2",
   "metadata": {
    "editable": true,
    "slideshow": {
     "slide_type": ""
    },
    "tags": []
   },
   "outputs": [
    {
     "name": "stderr",
     "output_type": "stream",
     "text": [
      "/tmp/ipykernel_7876/15813124.py:1: FutureWarning: A value is trying to be set on a copy of a DataFrame or Series through chained assignment using an inplace method.\n",
      "The behavior will change in pandas 3.0. This inplace method will never work because the intermediate object on which we are setting values always behaves as a copy.\n",
      "\n",
      "For example, when doing 'df[col].method(value, inplace=True)', try using 'df.method({col: value}, inplace=True)' or df[col] = df[col].method(value) instead, to perform the operation inplace on the original object.\n",
      "\n",
      "\n",
      "  data['معدل'].fillna(data['معدل'].mean(), inplace=True)\n"
     ]
    },
    {
     "data": {
      "text/plain": [
       "Unnamed: 0.8            0\n",
       "Unnamed: 0.7            0\n",
       "Unnamed: 0.6            0\n",
       "Unnamed: 0.5            0\n",
       "Unnamed: 0.4            0\n",
       "Unnamed: 0.3            0\n",
       "Unnamed: 0.2            0\n",
       "Unnamed: 0.1            0\n",
       "Unnamed: 0              0\n",
       "نام                     0\n",
       "نام خانوادگی            0\n",
       "آدرس                  182\n",
       "جنسیت                   0\n",
       "معدل                    0\n",
       "مقطع تحصیلی             0\n",
       "رشته تحصیلی           243\n",
       "سن                      0\n",
       "مهارت                 225\n",
       "تجربه کاری(به سال)      0\n",
       "dtype: int64"
      ]
     },
     "execution_count": 15,
     "metadata": {},
     "output_type": "execute_result"
    }
   ],
   "source": [
    "data['معدل'].fillna(data['معدل'].mean(), inplace=True)\n",
    "data.to_csv('data/resume.csv')\n",
    "data = load_data()\n",
    "missin_value = get_missing_value(data)\n",
    "missin_value"
   ]
  },
  {
   "cell_type": "markdown",
   "id": "44b32f15-102d-46a4-ad92-e606ca5b22d5",
   "metadata": {
    "editable": true,
    "slideshow": {
     "slide_type": ""
    },
    "tags": []
   },
   "source": [
    "#### Remove null value for education"
   ]
  },
  {
   "cell_type": "code",
   "execution_count": 32,
   "id": "a3c9456d-7ec8-4950-a4a7-bc73c1087f26",
   "metadata": {
    "editable": true,
    "slideshow": {
     "slide_type": ""
    },
    "tags": []
   },
   "outputs": [
    {
     "name": "stdout",
     "output_type": "stream",
     "text": [
      "updated ...\n"
     ]
    }
   ],
   "source": [
    "import random\n",
    "\n",
    "## گرفتن لیست مقطع تحصیلی و حذف موارد اضافی\n",
    "condition =  {'-1', '0', 'ندارد', None}\n",
    "education = ['سیکل', 'دیپلم', 'کاردانی', 'فوق دیپلم', 'لیسانس', 'کارشناسی', 'فوق لیسانس', 'کارشناسی ارشد', 'دکترا', 'فوق دکترا']\n",
    "index = data[data['مقطع تحصیلی'].isnull()].index\n",
    "\n",
    "for i in index:\n",
    "    \n",
    "    age = data.loc[i, 'سن']\n",
    "\n",
    "    if (age > 30):\n",
    "         rand = random.randint(0, len(education)-1)    \n",
    "         data.loc[i, 'مقطع تحصیلی'] = education[rand]\n",
    "\n",
    "    elif (age > 25):\n",
    "         rand = random.randint(0, 7)\n",
    "         data.loc[i, 'مقطع تحصیلی'] = education[rand]\n",
    "\n",
    "    elif (age > 20):\n",
    "        rand = random.randint(0, 5)\n",
    "        data.loc[i, 'مقطع تحصیلی'] = education[rand]\n",
    "    else:\n",
    "        rand = random.randint(0, 1)\n",
    "        data.loc[i, 'مقطع تحصیلی'] = education[rand]\n",
    "        \n",
    "\n",
    "    \n",
    "data.to_csv('data/resume.csv')\n",
    "print('updated ...')\n"
   ]
  },
  {
   "cell_type": "code",
   "execution_count": 33,
   "id": "85b7ebff-d318-44f9-a87f-df830f912c97",
   "metadata": {
    "editable": true,
    "slideshow": {
     "slide_type": ""
    },
    "tags": []
   },
   "outputs": [
    {
     "data": {
      "text/plain": [
       "Unnamed: 0.4            0\n",
       "Unnamed: 0.3            0\n",
       "Unnamed: 0.2            0\n",
       "Unnamed: 0.1            0\n",
       "Unnamed: 0              0\n",
       "نام                     0\n",
       "نام خانوادگی            0\n",
       "آدرس                  182\n",
       "جنسیت                   0\n",
       "معدل                    0\n",
       "مقطع تحصیلی             0\n",
       "رشته تحصیلی           243\n",
       "سن                      0\n",
       "مهارت                 225\n",
       "تجربه کاری(به سال)      0\n",
       "dtype: int64"
      ]
     },
     "execution_count": 33,
     "metadata": {},
     "output_type": "execute_result"
    }
   ],
   "source": [
    "data = load_data()\n",
    "missin_value = get_missing_value(data)\n",
    "missin_value"
   ]
  },
  {
   "cell_type": "markdown",
   "id": "114ad959-427c-4b83-8795-06e25f1fe65d",
   "metadata": {},
   "source": [
    "#### Remove missing value experince"
   ]
  },
  {
   "cell_type": "code",
   "execution_count": 31,
   "id": "ab772890-9503-40e2-bcd9-9ad6e6bc02ae",
   "metadata": {},
   "outputs": [
    {
     "name": "stderr",
     "output_type": "stream",
     "text": [
      "/tmp/ipykernel_7876/529123513.py:1: FutureWarning: A value is trying to be set on a copy of a DataFrame or Series through chained assignment using an inplace method.\n",
      "The behavior will change in pandas 3.0. This inplace method will never work because the intermediate object on which we are setting values always behaves as a copy.\n",
      "\n",
      "For example, when doing 'df[col].method(value, inplace=True)', try using 'df.method({col: value}, inplace=True)' or df[col] = df[col].method(value) instead, to perform the operation inplace on the original object.\n",
      "\n",
      "\n",
      "  data['تجربه کاری(به سال)'].fillna(data['تجربه کاری(به سال)'].mean(), inplace=True)\n"
     ]
    },
    {
     "data": {
      "text/plain": [
       "Unnamed: 0.3            0\n",
       "Unnamed: 0.2            0\n",
       "Unnamed: 0.1            0\n",
       "Unnamed: 0              0\n",
       "نام                     0\n",
       "نام خانوادگی            0\n",
       "آدرس                  182\n",
       "جنسیت                   0\n",
       "معدل                    0\n",
       "مقطع تحصیلی             0\n",
       "رشته تحصیلی           243\n",
       "سن                      0\n",
       "مهارت                 225\n",
       "تجربه کاری(به سال)      0\n",
       "dtype: int64"
      ]
     },
     "execution_count": 31,
     "metadata": {},
     "output_type": "execute_result"
    }
   ],
   "source": [
    "data['تجربه کاری(به سال)'].fillna(data['تجربه کاری(به سال)'].mean(), inplace=True)\n",
    "data.to_csv('data/resume.csv')\n",
    "data = load_data()\n",
    "missin_value = get_missing_value(data)\n",
    "missin_value"
   ]
  },
  {
   "cell_type": "code",
   "execution_count": null,
   "id": "0bd07547-3500-4f84-970c-db39bdfdbb40",
   "metadata": {},
   "outputs": [],
   "source": []
  }
 ],
 "metadata": {
  "kernelspec": {
   "display_name": "Python 3 (ipykernel)",
   "language": "python",
   "name": "python3"
  },
  "language_info": {
   "codemirror_mode": {
    "name": "ipython",
    "version": 3
   },
   "file_extension": ".py",
   "mimetype": "text/x-python",
   "name": "python",
   "nbconvert_exporter": "python",
   "pygments_lexer": "ipython3",
   "version": "3.11.5"
  }
 },
 "nbformat": 4,
 "nbformat_minor": 5
}
