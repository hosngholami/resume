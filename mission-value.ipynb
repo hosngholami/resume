{
 "cells": [
  {
   "cell_type": "markdown",
   "id": "b67ed530-9891-479c-84d5-cf03d539305a",
   "metadata": {},
   "source": [
    "## Remove Mission Value"
   ]
  },
  {
   "cell_type": "markdown",
   "id": "9cee81e3-5f1a-40b2-ae6e-79281551e31b",
   "metadata": {},
   "source": [
    "#### Load Data"
   ]
  },
  {
   "cell_type": "code",
   "execution_count": 1,
   "id": "ef23cf01-03c9-4d2c-b950-4f3f5929ed47",
   "metadata": {},
   "outputs": [],
   "source": [
    "import pandas as pd"
   ]
  },
  {
   "cell_type": "code",
   "execution_count": 2,
   "id": "dcbd1451-b0bd-46d1-974f-31bfa4e578e5",
   "metadata": {},
   "outputs": [],
   "source": [
    "def load_data():\n",
    "    data = pd.read_csv('data/resume.csv')\n",
    "    return data"
   ]
  },
  {
   "cell_type": "code",
   "execution_count": 3,
   "id": "3307e0ff-68b7-4f90-9cd0-00b479e30984",
   "metadata": {},
   "outputs": [],
   "source": [
    "def get_missing_value(data):\n",
    "    missing_value = data.isnull().sum()\n",
    "    return missing_value\n",
    "    "
   ]
  },
  {
   "cell_type": "markdown",
   "id": "c9ab627e-89cb-434c-8e5e-d5970f4a2084",
   "metadata": {},
   "source": [
    "#### Display missing value"
   ]
  },
  {
   "cell_type": "code",
   "execution_count": 4,
   "id": "480601d3-80bc-4b9a-8505-6e8445d4d823",
   "metadata": {},
   "outputs": [
    {
     "data": {
      "text/plain": [
       "Unnamed: 0.4            0\n",
       "Unnamed: 0.3            0\n",
       "Unnamed: 0.2            0\n",
       "Unnamed: 0.1            0\n",
       "Unnamed: 0              0\n",
       "نام                     0\n",
       "نام خانوادگی            0\n",
       "آدرس                  182\n",
       "جنسیت                   0\n",
       "معدل                    0\n",
       "مقطع تحصیلی             0\n",
       "رشته تحصیلی           243\n",
       "سن                      0\n",
       "مهارت                 225\n",
       "تجربه کاری(به سال)      0\n",
       "dtype: int64"
      ]
     },
     "execution_count": 4,
     "metadata": {},
     "output_type": "execute_result"
    }
   ],
   "source": [
    "data = load_data()\n",
    "missin_value = get_missing_value(data)\n",
    "missin_value"
   ]
  },
  {
   "cell_type": "markdown",
   "id": "764b638f-21ca-4d4f-aef9-800ba0b41028",
   "metadata": {},
   "source": [
    "#### remove white space in row"
   ]
  },
  {
   "cell_type": "code",
   "execution_count": 5,
   "id": "b2330467-dc30-48ca-b880-8ae9bf531f82",
   "metadata": {},
   "outputs": [],
   "source": [
    "import re\n",
    "pattern = r\"\\A\\s*\\Z\" ## پیدا کردن سطر هایی که فقط space ذخیره شده اند\n",
    "for i in range(len(data)-1):\n",
    "    if (re.search(pattern ,str(data.loc[i, 'نام'])) != None ):\n",
    "        data.loc[i, 'نام'] = re.sub(re.compile(pattern), '', data.loc[i, 'نام'])\n",
    "        \n",
    "    if (re.search(pattern ,str(data.loc[i, 'نام خانوادگی'])) != None ):\n",
    "        data.loc[i, 'نام خانوادگی'] = re.sub(re.compile(pattern), '', data.loc[i, 'نام خانوادگی'])\n",
    "        \n",
    "    if (re.search(pattern ,str(data.loc[i, 'آدرس'])) != None ):\n",
    "        data.loc[i, 'آدرس'] = re.sub(re.compile(pattern), '', data.loc[i, 'آدرس'])\n",
    "\n",
    "    if (re.search(pattern ,str(data.loc[i, 'جنسیت'])) != None ):\n",
    "        data.loc[i, 'جنسیت'] = re.sub(re.compile(pattern), '', data.loc[i, 'جنسیت'])\n",
    "\n",
    "    if (re.search(pattern ,str(data.loc[i, 'معدل'])) != None ):\n",
    "        data.loc[i, 'معدل'] = re.sub(re.compile(pattern), '', data.loc[i, 'معدل'])\n",
    "    \n",
    "\n",
    "    if (re.search(pattern ,str(data.loc[i, 'مقطع تحصیلی'])) != None ):\n",
    "        data.loc[i, 'مقطع تحصیلی'] = re.sub(re.compile(pattern), '', data.loc[i, 'مقطع تحصیلی'])\n",
    "    \n",
    "    if (re.search(pattern ,str(data.loc[i, 'رشته تحصیلی'])) != None ):\n",
    "        data.loc[i, 'رشته تحصیلی'] = re.sub(re.compile(pattern), '', data.loc[i, 'رشته تحصیلی'])\n",
    "        \n",
    "    if (re.search(pattern ,str(data.loc[i, 'سن'])) != None ):\n",
    "        data.loc[i, 'سن'] = re.sub(re.compile(pattern), '', data.loc[i, 'سن'])\n",
    "    \n",
    "    if (re.search(pattern ,str(data.loc[i, 'مهارت'])) != None ):\n",
    "        data.loc[i, 'مهارت'] = re.sub(re.compile(pattern), '', data.loc[i, 'مهارت'])\n",
    "\n",
    "    if (re.search(pattern ,str(data.loc[i, 'تجربه کاری(به سال)'])) != None ):\n",
    "        data.loc[i, 'تجربه کاری(به سال)'] = re.sub(re.compile(pattern), '', data.loc[i, 'تجربه کاری(به سال)'])\n",
    "\n",
    "data.to_csv('data/resume.csv')\n"
   ]
  },
  {
   "cell_type": "code",
   "execution_count": 6,
   "id": "8e2866c2-0232-4e73-ab28-0075e5771ade",
   "metadata": {},
   "outputs": [
    {
     "data": {
      "text/plain": [
       "Unnamed: 0.5            0\n",
       "Unnamed: 0.4            0\n",
       "Unnamed: 0.3            0\n",
       "Unnamed: 0.2            0\n",
       "Unnamed: 0.1            0\n",
       "Unnamed: 0              0\n",
       "نام                     0\n",
       "نام خانوادگی            0\n",
       "آدرس                  182\n",
       "جنسیت                   0\n",
       "معدل                    0\n",
       "مقطع تحصیلی             0\n",
       "رشته تحصیلی           243\n",
       "سن                      0\n",
       "مهارت                 225\n",
       "تجربه کاری(به سال)      0\n",
       "dtype: int64"
      ]
     },
     "execution_count": 6,
     "metadata": {},
     "output_type": "execute_result"
    }
   ],
   "source": [
    "data = load_data()\n",
    "missin_value = get_missing_value(data)\n",
    "missin_value"
   ]
  },
  {
   "cell_type": "markdown",
   "id": "caf0968a-e2dc-4580-a9f2-64191989a0d5",
   "metadata": {},
   "source": [
    "#### Remove missin value name"
   ]
  },
  {
   "cell_type": "code",
   "execution_count": 7,
   "id": "c22433bf-fc3d-4703-989b-32f4a37cbcf6",
   "metadata": {},
   "outputs": [
    {
     "data": {
      "text/plain": [
       "Unnamed: 0.6            0\n",
       "Unnamed: 0.5            0\n",
       "Unnamed: 0.4            0\n",
       "Unnamed: 0.3            0\n",
       "Unnamed: 0.2            0\n",
       "Unnamed: 0.1            0\n",
       "Unnamed: 0              0\n",
       "نام                     0\n",
       "نام خانوادگی            0\n",
       "آدرس                  182\n",
       "جنسیت                   0\n",
       "معدل                    0\n",
       "مقطع تحصیلی             0\n",
       "رشته تحصیلی           243\n",
       "سن                      0\n",
       "مهارت                 225\n",
       "تجربه کاری(به سال)      0\n",
       "dtype: int64"
      ]
     },
     "execution_count": 7,
     "metadata": {},
     "output_type": "execute_result"
    }
   ],
   "source": [
    "data.dropna(subset=['نام', 'نام خانوادگی', 'جنسیت'], inplace=True)\n",
    "data.to_csv('data/resume.csv')\n",
    "data = load_data()\n",
    "missin_value = get_missing_value(data)\n",
    "missin_value"
   ]
  },
  {
   "cell_type": "markdown",
   "id": "046c6b48-7c7a-4b70-bd28-b4aa64eacd1b",
   "metadata": {
    "editable": true,
    "slideshow": {
     "slide_type": ""
    },
    "tags": []
   },
   "source": [
    "#### Remove null value for grade"
   ]
  },
  {
   "cell_type": "code",
   "execution_count": 8,
   "id": "7159e1d6-d11f-4282-b08c-e068e49662e2",
   "metadata": {
    "editable": true,
    "slideshow": {
     "slide_type": ""
    },
    "tags": []
   },
   "outputs": [
    {
     "name": "stderr",
     "output_type": "stream",
     "text": [
      "/tmp/ipykernel_14895/15813124.py:1: FutureWarning: A value is trying to be set on a copy of a DataFrame or Series through chained assignment using an inplace method.\n",
      "The behavior will change in pandas 3.0. This inplace method will never work because the intermediate object on which we are setting values always behaves as a copy.\n",
      "\n",
      "For example, when doing 'df[col].method(value, inplace=True)', try using 'df.method({col: value}, inplace=True)' or df[col] = df[col].method(value) instead, to perform the operation inplace on the original object.\n",
      "\n",
      "\n",
      "  data['معدل'].fillna(data['معدل'].mean(), inplace=True)\n"
     ]
    },
    {
     "data": {
      "text/plain": [
       "Unnamed: 0.7            0\n",
       "Unnamed: 0.6            0\n",
       "Unnamed: 0.5            0\n",
       "Unnamed: 0.4            0\n",
       "Unnamed: 0.3            0\n",
       "Unnamed: 0.2            0\n",
       "Unnamed: 0.1            0\n",
       "Unnamed: 0              0\n",
       "نام                     0\n",
       "نام خانوادگی            0\n",
       "آدرس                  182\n",
       "جنسیت                   0\n",
       "معدل                    0\n",
       "مقطع تحصیلی             0\n",
       "رشته تحصیلی           243\n",
       "سن                      0\n",
       "مهارت                 225\n",
       "تجربه کاری(به سال)      0\n",
       "dtype: int64"
      ]
     },
     "execution_count": 8,
     "metadata": {},
     "output_type": "execute_result"
    }
   ],
   "source": [
    "data['معدل'].fillna(data['معدل'].mean(), inplace=True)\n",
    "data.to_csv('data/resume.csv')\n",
    "data = load_data()\n",
    "missin_value = get_missing_value(data)\n",
    "missin_value"
   ]
  },
  {
   "cell_type": "markdown",
   "id": "44b32f15-102d-46a4-ad92-e606ca5b22d5",
   "metadata": {
    "editable": true,
    "slideshow": {
     "slide_type": ""
    },
    "tags": []
   },
   "source": [
    "#### Remove null value for education"
   ]
  },
  {
   "cell_type": "code",
   "execution_count": 9,
   "id": "a3c9456d-7ec8-4950-a4a7-bc73c1087f26",
   "metadata": {
    "editable": true,
    "slideshow": {
     "slide_type": ""
    },
    "tags": []
   },
   "outputs": [
    {
     "name": "stdout",
     "output_type": "stream",
     "text": [
      "updated ...\n"
     ]
    }
   ],
   "source": [
    "import random\n",
    "\n",
    "## گرفتن لیست مقطع تحصیلی و حذف موارد اضافی\n",
    "condition =  {'-1', '0', 'ندارد', None}\n",
    "education = ['سیکل', 'دیپلم', 'کاردانی', 'فوق دیپلم', 'لیسانس', 'کارشناسی', 'فوق لیسانس', 'کارشناسی ارشد', 'دکترا', 'فوق دکترا']\n",
    "index = data[data['مقطع تحصیلی'].isnull()].index\n",
    "\n",
    "for i in index:\n",
    "    \n",
    "    age = data.loc[i, 'سن']\n",
    "\n",
    "    if (age > 30):\n",
    "         rand = random.randint(0, len(education)-1)    \n",
    "         data.loc[i, 'مقطع تحصیلی'] = education[rand]\n",
    "\n",
    "    elif (age > 25):\n",
    "         rand = random.randint(0, 7)\n",
    "         data.loc[i, 'مقطع تحصیلی'] = education[rand]\n",
    "\n",
    "    elif (age > 20):\n",
    "        rand = random.randint(0, 5)\n",
    "        data.loc[i, 'مقطع تحصیلی'] = education[rand]\n",
    "    else:\n",
    "        rand = random.randint(0, 1)\n",
    "        data.loc[i, 'مقطع تحصیلی'] = education[rand]\n",
    "        \n",
    "\n",
    "    \n",
    "data.to_csv('data/resume.csv')\n",
    "print('updated ...')\n"
   ]
  },
  {
   "cell_type": "code",
   "execution_count": 10,
   "id": "85b7ebff-d318-44f9-a87f-df830f912c97",
   "metadata": {
    "editable": true,
    "slideshow": {
     "slide_type": ""
    },
    "tags": []
   },
   "outputs": [
    {
     "data": {
      "text/plain": [
       "Unnamed: 0.8            0\n",
       "Unnamed: 0.7            0\n",
       "Unnamed: 0.6            0\n",
       "Unnamed: 0.5            0\n",
       "Unnamed: 0.4            0\n",
       "Unnamed: 0.3            0\n",
       "Unnamed: 0.2            0\n",
       "Unnamed: 0.1            0\n",
       "Unnamed: 0              0\n",
       "نام                     0\n",
       "نام خانوادگی            0\n",
       "آدرس                  182\n",
       "جنسیت                   0\n",
       "معدل                    0\n",
       "مقطع تحصیلی             0\n",
       "رشته تحصیلی           243\n",
       "سن                      0\n",
       "مهارت                 225\n",
       "تجربه کاری(به سال)      0\n",
       "dtype: int64"
      ]
     },
     "execution_count": 10,
     "metadata": {},
     "output_type": "execute_result"
    }
   ],
   "source": [
    "data = load_data()\n",
    "missin_value = get_missing_value(data)\n",
    "missin_value"
   ]
  },
  {
   "cell_type": "markdown",
   "id": "114ad959-427c-4b83-8795-06e25f1fe65d",
   "metadata": {},
   "source": [
    "#### Remove missing value experince"
   ]
  },
  {
   "cell_type": "code",
   "execution_count": 11,
   "id": "ab772890-9503-40e2-bcd9-9ad6e6bc02ae",
   "metadata": {},
   "outputs": [
    {
     "name": "stderr",
     "output_type": "stream",
     "text": [
      "/tmp/ipykernel_14895/529123513.py:1: FutureWarning: A value is trying to be set on a copy of a DataFrame or Series through chained assignment using an inplace method.\n",
      "The behavior will change in pandas 3.0. This inplace method will never work because the intermediate object on which we are setting values always behaves as a copy.\n",
      "\n",
      "For example, when doing 'df[col].method(value, inplace=True)', try using 'df.method({col: value}, inplace=True)' or df[col] = df[col].method(value) instead, to perform the operation inplace on the original object.\n",
      "\n",
      "\n",
      "  data['تجربه کاری(به سال)'].fillna(data['تجربه کاری(به سال)'].mean(), inplace=True)\n"
     ]
    },
    {
     "data": {
      "text/plain": [
       "Unnamed: 0.9            0\n",
       "Unnamed: 0.8            0\n",
       "Unnamed: 0.7            0\n",
       "Unnamed: 0.6            0\n",
       "Unnamed: 0.5            0\n",
       "Unnamed: 0.4            0\n",
       "Unnamed: 0.3            0\n",
       "Unnamed: 0.2            0\n",
       "Unnamed: 0.1            0\n",
       "Unnamed: 0              0\n",
       "نام                     0\n",
       "نام خانوادگی            0\n",
       "آدرس                  182\n",
       "جنسیت                   0\n",
       "معدل                    0\n",
       "مقطع تحصیلی             0\n",
       "رشته تحصیلی           243\n",
       "سن                      0\n",
       "مهارت                 225\n",
       "تجربه کاری(به سال)      0\n",
       "dtype: int64"
      ]
     },
     "execution_count": 11,
     "metadata": {},
     "output_type": "execute_result"
    }
   ],
   "source": [
    "data['تجربه کاری(به سال)'].fillna(data['تجربه کاری(به سال)'].mean(), inplace=True)\n",
    "data.to_csv('data/resume.csv')\n",
    "data = load_data()\n",
    "missin_value = get_missing_value(data)\n",
    "missin_value"
   ]
  },
  {
   "cell_type": "markdown",
   "id": "63b5f5f4-a9c5-4686-8026-d495a5798612",
   "metadata": {},
   "source": [
    "#### به دست آوردن لیست رشته های تحصیلی"
   ]
  },
  {
   "cell_type": "code",
   "execution_count": 18,
   "id": "56c25067-637a-45ac-b565-c30a9d187a34",
   "metadata": {},
   "outputs": [],
   "source": [
    "data = load_data()\n",
    "educations = set(data['رشته تحصیلی'])\n",
    "educations = list(educations)"
   ]
  },
  {
   "cell_type": "markdown",
   "id": "ff2a9364-78b1-44ce-b11b-662e72b7eacd",
   "metadata": {},
   "source": [
    "#### حذف داده های اضافی"
   ]
  },
  {
   "cell_type": "code",
   "execution_count": 20,
   "id": "bb554b5f-2694-4778-bc07-cd71deeb1525",
   "metadata": {},
   "outputs": [
    {
     "data": {
      "text/plain": [
       "['مدیریت و کمیسر دریایی',\n",
       " 'کاردانی هواپیما',\n",
       " 'چاپ',\n",
       " 'پرستاری',\n",
       " 'مامایی',\n",
       " 'حقوق',\n",
       " 'کاردان فنی عمران',\n",
       " 'شیلات',\n",
       " 'گرافیک',\n",
       " 'اقیانوسشناسی',\n",
       " 'رشتههای علوم انسانی',\n",
       " 'جغرافیا',\n",
       " 'پرورش کودکان پیشدبستانی',\n",
       " 'علوم تغذیه',\n",
       " 'مهندسی اپتیک و لیزر',\n",
       " 'مهندسی کشتی',\n",
       " 'زبان انگلیسی',\n",
       " 'فیزیوتراپی',\n",
       " 'زیستشناسی سلولی',\n",
       " 'جنگلداری',\n",
       " 'شیمی',\n",
       " 'علوم قضایی',\n",
       " 'مهندسی فرماندهی و کنترل هوایی',\n",
       " 'بهداشت مواد غذایی',\n",
       " 'مددکاری اجتماعی',\n",
       " 'مهندسی مواد',\n",
       " 'تکنولوژی تولیدات دامی',\n",
       " 'رشتههای تجربی',\n",
       " 'پرورش زنبور عسل',\n",
       " 'ریاضیات و کاربردها',\n",
       " 'زبان و ادبیات فارسی',\n",
       " 'مدیریت جهانگردی',\n",
       " 'مهندسی شهرسازی',\n",
       " 'nan',\n",
       " 'پزشکی',\n",
       " 'مهندسی پلیمر',\n",
       " 'خلبانی هلیکوپتر',\n",
       " 'مدیریت - بازرگانی دریایی',\n",
       " 'علوم اقتصادی',\n",
       " 'علوم حدیث',\n",
       " 'مهندسی مکانیک',\n",
       " 'زبان آلمانی',\n",
       " 'زبان فرانسوی',\n",
       " 'باستانشناسی',\n",
       " 'مهندسی چوب',\n",
       " 'پدافند جنگهای میکروبی',\n",
       " 'مهندسی کامپیوتر',\n",
       " 'زبان چینی',\n",
       " 'مهندسی نفت',\n",
       " 'دامپزشکی',\n",
       " 'عکاسی',\n",
       " 'مهندسی کشاورزی',\n",
       " 'تکنسین پروتزهای دندانی',\n",
       " 'مهندسی رباتیک',\n",
       " 'ادبیات داستانی',\n",
       " 'مکاترونیک',\n",
       " 'مهندسی مکانیک نیروگاه',\n",
       " 'کارشناسی بهداشت عمومی',\n",
       " 'اعضای مصنوعی',\n",
       " 'شنواییشناسی',\n",
       " 'مهندسی راهآهن',\n",
       " 'زراعت و اصلاح نباتات',\n",
       " 'کارشناسی چندرسانهای',\n",
       " 'فلسفه',\n",
       " 'علوم کامپیوتر',\n",
       " 'معماری داخلی',\n",
       " 'دندانپزشکی',\n",
       " 'مدیریت هتلداری',\n",
       " 'مهندسی پزشکی',\n",
       " 'علوم و صنایع غذایی',\n",
       " 'زبان روسی',\n",
       " 'مهندسی مدیریت اجرایی',\n",
       " 'کارشناسی ارشد الهیات',\n",
       " 'فوریتهای پزشکی',\n",
       " 'علوم ارتباطات اجتماعی',\n",
       " 'مهندسی فضای سبز',\n",
       " 'مطالعات خانواده',\n",
       " 'مهندسی بازرسی فنی',\n",
       " 'روانشناسی',\n",
       " 'مهندسی مدیریت پروژه',\n",
       " 'مهندسی برق',\n",
       " 'رشتههای ریاضی و فیزیک',\n",
       " 'صنایع دستی',\n",
       " 'روابط عمومی',\n",
       " 'رادیولوژی',\n",
       " 'علوم آزمایشگاهی دامپزشکی',\n",
       " 'مهندسی مواد و طراحی صنایع غذایی',\n",
       " 'زبان و ادبیات عربی',\n",
       " 'کاردرمانی',\n",
       " 'حسابداری',\n",
       " 'علوم مهندسی زیستمحیطی',\n",
       " 'کاردان فنی معدن',\n",
       " 'تاریخ',\n",
       " 'راهنمایی و مشاوره',\n",
       " 'مهندسی صنایع',\n",
       " 'مدارک پزشکی',\n",
       " 'مهندسی معماری',\n",
       " 'مهندسی معدن',\n",
       " 'مدیریت',\n",
       " 'علوم دامی',\n",
       " 'امور گمرکی',\n",
       " 'فیزیک مهندسی',\n",
       " 'مهندسی هوافضا',\n",
       " 'دبیری شیمی',\n",
       " 'بهرهبرداری گیاهان دارویی',\n",
       " 'علوم اجتماعی',\n",
       " 'سینما',\n",
       " 'مهندسی بهداشت حرفهای',\n",
       " '-1',\n",
       " 'مهندسی بهداشت محیط',\n",
       " 'علوم سیاسی',\n",
       " 'مهندسی فناوری اطلاعات',\n",
       " 'تربیت بدنی',\n",
       " 'زمینشناسی',\n",
       " 'رشتههای هنر و زبان',\n",
       " 'اتاق عمل',\n",
       " 'الهیات و معارف اسلامی',\n",
       " 'بیوتکنولوژی',\n",
       " 'پزشکی هستهای',\n",
       " 'فیزیک',\n",
       " 'تفسیر قرآن مجید',\n",
       " 'تلویزیون و هنرهای دیجیتال',\n",
       " 'موزهداری',\n",
       " 'داروسازی',\n",
       " 'فناوری اطلاعات سلامت',\n",
       " 'مهندسی تولیدات گیاهی',\n",
       " 'کاردان فنی مکانیک',\n",
       " 'تکنولوژی مرتع و آبخیزداری',\n",
       " 'مهندسی نساجی',\n",
       " 'زیستشناسی',\n",
       " 'علوم تربیتی',\n",
       " 'ژئومورفولوژی',\n",
       " 'بیناییسنجی',\n",
       " 'کاردان فنی برق',\n",
       " 'آرگونومی',\n",
       " 'مهندسی ایمنی',\n",
       " 'هوشبری',\n",
       " 'ترویج و آموزش کشاورزی',\n",
       " 'مهندسی عمران',\n",
       " 'مطالعات ارتباطی',\n",
       " 'هوانوردی',\n",
       " 'مهندسی منابع طبیعی',\n",
       " 'دبیری زبان و ادبیات عربی',\n",
       " 'کاردانی دامپزشکی',\n",
       " 'ایمونولوژی',\n",
       " 'گفتاردرمانی',\n",
       " '0',\n",
       " 'مهندسی ماشینهای کشاورزی',\n",
       " 'علوم آزمایشگاهی',\n",
       " 'علوم مهندسی',\n",
       " 'دبیری جغرافیا',\n",
       " 'مهندسی انرژی',\n",
       " 'کارشناسی فرش',\n",
       " 'مرمت آثار تاریخی',\n",
       " 'کتابداری']"
      ]
     },
     "execution_count": 20,
     "metadata": {},
     "output_type": "execute_result"
    }
   ],
   "source": [
    "for i in range(len(educations)):\n",
    "    educations[i] = str(educations[i]).replace(\"\\n\", \"\")\n",
    "    educations[i] = str(educations[i]).replace(\"\\u200c\", \"\")\n",
    "educations"
   ]
  },
  {
   "cell_type": "code",
   "execution_count": 22,
   "id": "4293c420-d17f-4539-a992-c5625b06ca65",
   "metadata": {},
   "outputs": [],
   "source": [
    "try:\n",
    "    educations.remove('0')\n",
    "    educations.remove('-1')\n",
    "except ValueError as ve:\n",
    "    print('این مقدار در لیست وجود ندارد')"
   ]
  },
  {
   "cell_type": "code",
   "execution_count": 23,
   "id": "43b5b948-be48-4ad9-b337-c248fdf85417",
   "metadata": {},
   "outputs": [
    {
     "data": {
      "text/plain": [
       "['مدیریت و کمیسر دریایی',\n",
       " 'کاردانی هواپیما',\n",
       " 'چاپ',\n",
       " 'پرستاری',\n",
       " 'مامایی',\n",
       " 'حقوق',\n",
       " 'کاردان فنی عمران',\n",
       " 'شیلات',\n",
       " 'گرافیک',\n",
       " 'اقیانوسشناسی',\n",
       " 'رشتههای علوم انسانی',\n",
       " 'جغرافیا',\n",
       " 'پرورش کودکان پیشدبستانی',\n",
       " 'علوم تغذیه',\n",
       " 'مهندسی اپتیک و لیزر',\n",
       " 'مهندسی کشتی',\n",
       " 'زبان انگلیسی',\n",
       " 'فیزیوتراپی',\n",
       " 'زیستشناسی سلولی',\n",
       " 'جنگلداری',\n",
       " 'شیمی',\n",
       " 'علوم قضایی',\n",
       " 'مهندسی فرماندهی و کنترل هوایی',\n",
       " 'بهداشت مواد غذایی',\n",
       " 'مددکاری اجتماعی',\n",
       " 'مهندسی مواد',\n",
       " 'تکنولوژی تولیدات دامی',\n",
       " 'رشتههای تجربی',\n",
       " 'پرورش زنبور عسل',\n",
       " 'ریاضیات و کاربردها',\n",
       " 'زبان و ادبیات فارسی',\n",
       " 'مدیریت جهانگردی',\n",
       " 'مهندسی شهرسازی',\n",
       " 'nan',\n",
       " 'پزشکی',\n",
       " 'مهندسی پلیمر',\n",
       " 'خلبانی هلیکوپتر',\n",
       " 'مدیریت - بازرگانی دریایی',\n",
       " 'علوم اقتصادی',\n",
       " 'علوم حدیث',\n",
       " 'مهندسی مکانیک',\n",
       " 'زبان آلمانی',\n",
       " 'زبان فرانسوی',\n",
       " 'باستانشناسی',\n",
       " 'مهندسی چوب',\n",
       " 'پدافند جنگهای میکروبی',\n",
       " 'مهندسی کامپیوتر',\n",
       " 'زبان چینی',\n",
       " 'مهندسی نفت',\n",
       " 'دامپزشکی',\n",
       " 'عکاسی',\n",
       " 'مهندسی کشاورزی',\n",
       " 'تکنسین پروتزهای دندانی',\n",
       " 'مهندسی رباتیک',\n",
       " 'ادبیات داستانی',\n",
       " 'مکاترونیک',\n",
       " 'مهندسی مکانیک نیروگاه',\n",
       " 'کارشناسی بهداشت عمومی',\n",
       " 'اعضای مصنوعی',\n",
       " 'شنواییشناسی',\n",
       " 'مهندسی راهآهن',\n",
       " 'زراعت و اصلاح نباتات',\n",
       " 'کارشناسی چندرسانهای',\n",
       " 'فلسفه',\n",
       " 'علوم کامپیوتر',\n",
       " 'معماری داخلی',\n",
       " 'دندانپزشکی',\n",
       " 'مدیریت هتلداری',\n",
       " 'مهندسی پزشکی',\n",
       " 'علوم و صنایع غذایی',\n",
       " 'زبان روسی',\n",
       " 'مهندسی مدیریت اجرایی',\n",
       " 'کارشناسی ارشد الهیات',\n",
       " 'فوریتهای پزشکی',\n",
       " 'علوم ارتباطات اجتماعی',\n",
       " 'مهندسی فضای سبز',\n",
       " 'مطالعات خانواده',\n",
       " 'مهندسی بازرسی فنی',\n",
       " 'روانشناسی',\n",
       " 'مهندسی مدیریت پروژه',\n",
       " 'مهندسی برق',\n",
       " 'رشتههای ریاضی و فیزیک',\n",
       " 'صنایع دستی',\n",
       " 'روابط عمومی',\n",
       " 'رادیولوژی',\n",
       " 'علوم آزمایشگاهی دامپزشکی',\n",
       " 'مهندسی مواد و طراحی صنایع غذایی',\n",
       " 'زبان و ادبیات عربی',\n",
       " 'کاردرمانی',\n",
       " 'حسابداری',\n",
       " 'علوم مهندسی زیستمحیطی',\n",
       " 'کاردان فنی معدن',\n",
       " 'تاریخ',\n",
       " 'راهنمایی و مشاوره',\n",
       " 'مهندسی صنایع',\n",
       " 'مدارک پزشکی',\n",
       " 'مهندسی معماری',\n",
       " 'مهندسی معدن',\n",
       " 'مدیریت',\n",
       " 'علوم دامی',\n",
       " 'امور گمرکی',\n",
       " 'فیزیک مهندسی',\n",
       " 'مهندسی هوافضا',\n",
       " 'دبیری شیمی',\n",
       " 'بهرهبرداری گیاهان دارویی',\n",
       " 'علوم اجتماعی',\n",
       " 'سینما',\n",
       " 'مهندسی بهداشت حرفهای',\n",
       " 'مهندسی بهداشت محیط',\n",
       " 'علوم سیاسی',\n",
       " 'مهندسی فناوری اطلاعات',\n",
       " 'تربیت بدنی',\n",
       " 'زمینشناسی',\n",
       " 'رشتههای هنر و زبان',\n",
       " 'اتاق عمل',\n",
       " 'الهیات و معارف اسلامی',\n",
       " 'بیوتکنولوژی',\n",
       " 'پزشکی هستهای',\n",
       " 'فیزیک',\n",
       " 'تفسیر قرآن مجید',\n",
       " 'تلویزیون و هنرهای دیجیتال',\n",
       " 'موزهداری',\n",
       " 'داروسازی',\n",
       " 'فناوری اطلاعات سلامت',\n",
       " 'مهندسی تولیدات گیاهی',\n",
       " 'کاردان فنی مکانیک',\n",
       " 'تکنولوژی مرتع و آبخیزداری',\n",
       " 'مهندسی نساجی',\n",
       " 'زیستشناسی',\n",
       " 'علوم تربیتی',\n",
       " 'ژئومورفولوژی',\n",
       " 'بیناییسنجی',\n",
       " 'کاردان فنی برق',\n",
       " 'آرگونومی',\n",
       " 'مهندسی ایمنی',\n",
       " 'هوشبری',\n",
       " 'ترویج و آموزش کشاورزی',\n",
       " 'مهندسی عمران',\n",
       " 'مطالعات ارتباطی',\n",
       " 'هوانوردی',\n",
       " 'مهندسی منابع طبیعی',\n",
       " 'دبیری زبان و ادبیات عربی',\n",
       " 'کاردانی دامپزشکی',\n",
       " 'ایمونولوژی',\n",
       " 'گفتاردرمانی',\n",
       " 'مهندسی ماشینهای کشاورزی',\n",
       " 'علوم آزمایشگاهی',\n",
       " 'علوم مهندسی',\n",
       " 'دبیری جغرافیا',\n",
       " 'مهندسی انرژی',\n",
       " 'کارشناسی فرش',\n",
       " 'مرمت آثار تاریخی',\n",
       " 'کتابداری']"
      ]
     },
     "execution_count": 23,
     "metadata": {},
     "output_type": "execute_result"
    }
   ],
   "source": [
    "educations"
   ]
  },
  {
   "cell_type": "code",
   "execution_count": 25,
   "id": "69bf7719-3de0-41e0-9c63-5e31764867da",
   "metadata": {},
   "outputs": [],
   "source": [
    "indexs = data[data['رشته تحصیلی'].isnull()].index"
   ]
  },
  {
   "cell_type": "code",
   "execution_count": 28,
   "id": "14d07bf1-466c-47f7-b617-39a88abbac47",
   "metadata": {},
   "outputs": [],
   "source": [
    "import random\n",
    "for i in indexs:\n",
    "    rand = random.randint(0, len(educations)-1)\n",
    "    data.loc[i, 'رشته تحصیلی'] = educations[rand]\n",
    "data.to_csv('data/resume.csv')"
   ]
  },
  {
   "cell_type": "code",
   "execution_count": 30,
   "id": "43ccc627-0629-4de1-9faa-b2d550539edc",
   "metadata": {},
   "outputs": [
    {
     "data": {
      "text/plain": [
       "Unnamed: 0.10           0\n",
       "Unnamed: 0.9            0\n",
       "Unnamed: 0.8            0\n",
       "Unnamed: 0.7            0\n",
       "Unnamed: 0.6            0\n",
       "Unnamed: 0.5            0\n",
       "Unnamed: 0.4            0\n",
       "Unnamed: 0.3            0\n",
       "Unnamed: 0.2            0\n",
       "Unnamed: 0.1            0\n",
       "Unnamed: 0              0\n",
       "نام                     0\n",
       "نام خانوادگی            0\n",
       "آدرس                  182\n",
       "جنسیت                   0\n",
       "معدل                    0\n",
       "مقطع تحصیلی             0\n",
       "رشته تحصیلی             2\n",
       "سن                      0\n",
       "مهارت                 225\n",
       "تجربه کاری(به سال)      0\n",
       "dtype: int64"
      ]
     },
     "execution_count": 30,
     "metadata": {},
     "output_type": "execute_result"
    }
   ],
   "source": [
    "data = load_data()\n",
    "missin_value = get_missing_value(data)\n",
    "missin_value\n"
   ]
  },
  {
   "cell_type": "markdown",
   "id": "a8316665-f893-4d6a-b8ab-99eecf5aa064",
   "metadata": {},
   "source": [
    "#### remove missing value for experince"
   ]
  },
  {
   "cell_type": "code",
   "execution_count": 31,
   "id": "db4cb238-edcc-450b-bd66-f0999b0b487e",
   "metadata": {},
   "outputs": [],
   "source": [
    "data = load_data()"
   ]
  },
  {
   "cell_type": "code",
   "execution_count": 35,
   "id": "c427dee9-70df-45ba-9498-54ea7012af6b",
   "metadata": {},
   "outputs": [],
   "source": [
    "experince = set(data['مهارت'])"
   ]
  },
  {
   "cell_type": "code",
   "execution_count": 37,
   "id": "d4e54021-8f89-428c-ad7b-c1a8fd330158",
   "metadata": {},
   "outputs": [],
   "source": [
    "experince = list(experince)"
   ]
  },
  {
   "cell_type": "code",
   "execution_count": 51,
   "id": "2efc861f-1814-48c8-a79c-5bdc4954dfc6",
   "metadata": {},
   "outputs": [],
   "source": [
    "for i in range(len(experince)):\n",
    "    experince[i] = str(experince[i]).replace(\"\\n\", \"\")\n"
   ]
  },
  {
   "cell_type": "code",
   "execution_count": 52,
   "id": "327618fa-3bb9-4602-947e-d4cb4ee77513",
   "metadata": {},
   "outputs": [
    {
     "name": "stdout",
     "output_type": "stream",
     "text": [
      "این مقدار در لیست وجود ندارد\n"
     ]
    }
   ],
   "source": [
    "try:\n",
    "    experince.remove('nan')\n",
    "    experince.remove('-1')\n",
    "    experince.remove('0')\n",
    "except ValueError as ve:\n",
    "    print('این مقدار در لیست وجود ندارد')\n",
    "\n",
    "    "
   ]
  },
  {
   "cell_type": "code",
   "execution_count": 53,
   "id": "4ba5d626-43df-472d-8109-d1296cb1a51d",
   "metadata": {},
   "outputs": [
    {
     "data": {
      "text/plain": [
       "['مهندس پلیمر  ',\n",
       " 'عکاس ',\n",
       " 'کارشناس حقوقی',\n",
       " 'ماما',\n",
       " 'کارشناس امنیت اطلاعات  ',\n",
       " 'آمارگران',\n",
       " 'مدیر مالی  ',\n",
       " 'ارزیابی و تحلیلگری مالی',\n",
       " 'خلبان ',\n",
       " 'ماهیگیر',\n",
       " 'مترجم',\n",
       " 'کارشناس مرکز تماس  ',\n",
       " 'خبرنگار  ',\n",
       " 'جنگل داری',\n",
       " 'منشی دادگاه',\n",
       " 'فیزیوتراپی',\n",
       " 'منشی  ',\n",
       " 'سرایدار ',\n",
       " 'اپتومتریست',\n",
       " 'خواننده',\n",
       " 'کارشناس سخت افزار  ',\n",
       " 'قاضی ',\n",
       " 'خیاط  ',\n",
       " 'حسابدار و کمک حسابدار ',\n",
       " 'دادیار',\n",
       " 'مهندس برق، الکترونیک، مخابرات',\n",
       " 'کارشناس محیط زیست ',\n",
       " 'مهندس پزشکی  ',\n",
       " 'مهندس معدن ',\n",
       " ' برنامه نویس ',\n",
       " 'ماموران تهیه و تدارک',\n",
       " 'نوازنده',\n",
       " 'نجاری',\n",
       " 'پیک موتوری  ',\n",
       " 'مهندسی کامپیوتر',\n",
       " 'کتابداران',\n",
       " 'نانوا  ',\n",
       " 'کارگر ساده  ',\n",
       " 'داور حل اختلاف ',\n",
       " 'گزارشگر',\n",
       " 'اپراتور لوکوموتیو',\n",
       " 'کارشناس دیجیتال مارکتینگ  ',\n",
       " 'کارشناس فروش ',\n",
       " 'نویسنده  ',\n",
       " 'مکانیک  ',\n",
       " 'آهنگساز',\n",
       " ' مددکار',\n",
       " 'معلم ',\n",
       " 'مربی مهد کودک  ',\n",
       " 'مهندس شیمی',\n",
       " 'فروشنده  ',\n",
       " 'پرستار  ',\n",
       " 'کارمند اداری  ',\n",
       " 'موزه داران',\n",
       " 'تحلیلگر و مفسر اخبار',\n",
       " 'کارشناس بازاریابی ',\n",
       " 'مجسمه ساز',\n",
       " 'بازیگر  ',\n",
       " 'کارگردان',\n",
       " 'مهندس عمران  ',\n",
       " 'دندان پزشک  ',\n",
       " 'کارشناس شبکه  ',\n",
       " 'مسئول بایگانی',\n",
       " 'مهندس راه آهن ',\n",
       " 'دام دار',\n",
       " 'گویندگان',\n",
       " 'مشاوران مالی',\n",
       " 'طراح وب سایت  ',\n",
       " 'کارشناس روابط عمومی  ',\n",
       " 'مسئول مکاتبات',\n",
       " 'راننده  ',\n",
       " 'ویزیتور',\n",
       " 'ناخدای کشتی ',\n",
       " 'صندوقدار  ',\n",
       " 'مسئول وصول مطالبات',\n",
       " 'وکیل  ',\n",
       " 'داروسازی',\n",
       " 'مسئول دفتر',\n",
       " 'استاد دانشگاه',\n",
       " 'زنبوردار',\n",
       " 'پژوهشگر',\n",
       " 'مهندسی نساجی',\n",
       " 'پرورش دهنده ماهی',\n",
       " 'بازرسان مالی',\n",
       " 'کارشناس دادگستری',\n",
       " 'نقاش  ',\n",
       " 'بنّا',\n",
       " 'مهندس صنایع غذایی',\n",
       " 'مشاور',\n",
       " 'مهندس معماری',\n",
       " 'کارشناس بازرگانی داخلی و خارجی',\n",
       " 'کشاورز ',\n",
       " 'جراح زیبایی  ',\n",
       " 'تکنسین اتاق عمل ',\n",
       " 'پلیس ',\n",
       " 'مهندس مکانیک',\n",
       " 'طراح لباس',\n",
       " 'مهندس شهرسازی']"
      ]
     },
     "execution_count": 53,
     "metadata": {},
     "output_type": "execute_result"
    }
   ],
   "source": [
    "experince"
   ]
  },
  {
   "cell_type": "code",
   "execution_count": 57,
   "id": "6f26ee0f-d71b-400b-988e-9f61ad63d227",
   "metadata": {},
   "outputs": [],
   "source": [
    "import random\n",
    "index = data[data['مهارت'].isnull()].index\n",
    "for i in index:\n",
    "    data.loc[i, 'مهارت'] = experince[rand]\n",
    "data.to_csv('data/resume.csv')"
   ]
  },
  {
   "cell_type": "code",
   "execution_count": 58,
   "id": "e4b03388-09c9-442a-b0c8-693fdf1416d0",
   "metadata": {},
   "outputs": [
    {
     "data": {
      "text/plain": [
       "Unnamed: 0.11           0\n",
       "Unnamed: 0.10           0\n",
       "Unnamed: 0.9            0\n",
       "Unnamed: 0.8            0\n",
       "Unnamed: 0.7            0\n",
       "Unnamed: 0.6            0\n",
       "Unnamed: 0.5            0\n",
       "Unnamed: 0.4            0\n",
       "Unnamed: 0.3            0\n",
       "Unnamed: 0.2            0\n",
       "Unnamed: 0.1            0\n",
       "Unnamed: 0              0\n",
       "نام                     0\n",
       "نام خانوادگی            0\n",
       "آدرس                  182\n",
       "جنسیت                   0\n",
       "معدل                    0\n",
       "مقطع تحصیلی             0\n",
       "رشته تحصیلی             2\n",
       "سن                      0\n",
       "مهارت                   0\n",
       "تجربه کاری(به سال)      0\n",
       "dtype: int64"
      ]
     },
     "execution_count": 58,
     "metadata": {},
     "output_type": "execute_result"
    }
   ],
   "source": [
    "data = load_data()\n",
    "missin_value = get_missing_value(data)\n",
    "missin_value"
   ]
  },
  {
   "cell_type": "code",
   "execution_count": null,
   "id": "0a0b9cd0-8400-4bc4-96a6-60ccdc678df4",
   "metadata": {},
   "outputs": [],
   "source": []
  }
 ],
 "metadata": {
  "kernelspec": {
   "display_name": "Python 3 (ipykernel)",
   "language": "python",
   "name": "python3"
  },
  "language_info": {
   "codemirror_mode": {
    "name": "ipython",
    "version": 3
   },
   "file_extension": ".py",
   "mimetype": "text/x-python",
   "name": "python",
   "nbconvert_exporter": "python",
   "pygments_lexer": "ipython3",
   "version": "3.11.5"
  }
 },
 "nbformat": 4,
 "nbformat_minor": 5
}
