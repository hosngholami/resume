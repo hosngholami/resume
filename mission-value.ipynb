{
 "cells": [
  {
   "cell_type": "markdown",
   "id": "b67ed530-9891-479c-84d5-cf03d539305a",
   "metadata": {},
   "source": [
    "## Remove Mission Value"
   ]
  },
  {
   "cell_type": "markdown",
   "id": "9cee81e3-5f1a-40b2-ae6e-79281551e31b",
   "metadata": {},
   "source": [
    "#### Load Data"
   ]
  },
  {
   "cell_type": "code",
   "execution_count": 181,
   "id": "ef23cf01-03c9-4d2c-b950-4f3f5929ed47",
   "metadata": {},
   "outputs": [],
   "source": [
    "import pandas as pd"
   ]
  },
  {
   "cell_type": "code",
   "execution_count": 182,
   "id": "dcbd1451-b0bd-46d1-974f-31bfa4e578e5",
   "metadata": {},
   "outputs": [],
   "source": [
    "data = pd.read_csv('data/resume.csv')\n"
   ]
  },
  {
   "cell_type": "markdown",
   "id": "c9ab627e-89cb-434c-8e5e-d5970f4a2084",
   "metadata": {},
   "source": [
    "#### Remove null value for gender"
   ]
  },
  {
   "cell_type": "code",
   "execution_count": 184,
   "id": "f5ddd240-7111-43de-99b2-6be0aa2aa013",
   "metadata": {},
   "outputs": [],
   "source": []
  },
  {
   "cell_type": "code",
   "execution_count": 185,
   "id": "480601d3-80bc-4b9a-8505-6e8445d4d823",
   "metadata": {},
   "outputs": [
    {
     "name": "stdout",
     "output_type": "stream",
     "text": [
      "Unnamed: 0              0\n",
      "نام                     0\n",
      "نام خانوادگی            0\n",
      "آدرس                  185\n",
      "جنسیت                   0\n",
      "معدل                    0\n",
      "مقطع تحصیلی           236\n",
      "رشته تحصیلی             0\n",
      "سن                      0\n",
      "مهارت                   0\n",
      "تجربه کاری(به سال)      0\n",
      "dtype: int64\n"
     ]
    }
   ],
   "source": [
    "count_null()"
   ]
  },
  {
   "cell_type": "code",
   "execution_count": 179,
   "id": "345a7018-9b33-42a1-86f2-9062b7456539",
   "metadata": {},
   "outputs": [],
   "source": [
    "# ## حذف جنسیت هایی که مقدار null دارد\n",
    "# remove_grade = df[df['جنسیت'].isnull()].index\n",
    "# data.drop(remove_grade, inplace=True)\n"
   ]
  },
  {
   "cell_type": "markdown",
   "id": "046c6b48-7c7a-4b70-bd28-b4aa64eacd1b",
   "metadata": {
    "editable": true,
    "slideshow": {
     "slide_type": ""
    },
    "tags": []
   },
   "source": [
    "#### Remove null value for grade"
   ]
  },
  {
   "cell_type": "code",
   "execution_count": 180,
   "id": "ff42c495-fb03-4a6c-9173-1e4f346ed815",
   "metadata": {
    "editable": true,
    "slideshow": {
     "slide_type": ""
    },
    "tags": []
   },
   "outputs": [
    {
     "data": {
      "text/plain": [
       "نام                     0\n",
       "نام خانوادگی            0\n",
       "آدرس                  185\n",
       "جنسیت                   0\n",
       "معدل                    0\n",
       "مقطع تحصیلی           236\n",
       "رشته تحصیلی             0\n",
       "سن                      0\n",
       "مهارت                   0\n",
       "تجربه کاری(به سال)      0\n",
       "dtype: int64"
      ]
     },
     "execution_count": 180,
     "metadata": {},
     "output_type": "execute_result"
    }
   ],
   "source": [
    "# ## ذخیره تغییرات\n",
    "# data.to_csv('data/resume.csv')\n",
    "# data.isnull().sum()"
   ]
  },
  {
   "cell_type": "code",
   "execution_count": 188,
   "id": "7159e1d6-d11f-4282-b08c-e068e49662e2",
   "metadata": {
    "editable": true,
    "slideshow": {
     "slide_type": ""
    },
    "tags": []
   },
   "outputs": [
    {
     "name": "stderr",
     "output_type": "stream",
     "text": [
      "/tmp/ipykernel_11570/3096707084.py:1: FutureWarning: A value is trying to be set on a copy of a DataFrame or Series through chained assignment using an inplace method.\n",
      "The behavior will change in pandas 3.0. This inplace method will never work because the intermediate object on which we are setting values always behaves as a copy.\n",
      "\n",
      "For example, when doing 'df[col].method(value, inplace=True)', try using 'df.method({col: value}, inplace=True)' or df[col] = df[col].method(value) instead, to perform the operation inplace on the original object.\n",
      "\n",
      "\n",
      "  data['معدل'].fillna(data['معدل'].mean(), inplace=True)\n"
     ]
    }
   ],
   "source": [
    "data['معدل'].fillna(data['معدل'].mean(), inplace=True)\n",
    "data.to_csv('data/resume.csv')"
   ]
  },
  {
   "cell_type": "markdown",
   "id": "44b32f15-102d-46a4-ad92-e606ca5b22d5",
   "metadata": {
    "editable": true,
    "slideshow": {
     "slide_type": ""
    },
    "tags": []
   },
   "source": [
    "#### Remove null value for education"
   ]
  },
  {
   "cell_type": "code",
   "execution_count": 216,
   "id": "a3c9456d-7ec8-4950-a4a7-bc73c1087f26",
   "metadata": {
    "editable": true,
    "slideshow": {
     "slide_type": ""
    },
    "tags": []
   },
   "outputs": [
    {
     "name": "stdout",
     "output_type": "stream",
     "text": [
      "nan\n",
      "nan\n",
      "nan\n",
      "nan\n",
      "nan\n",
      "nan\n",
      "nan\n",
      "nan\n",
      "nan\n",
      "nan\n",
      "nan\n",
      "nan\n",
      "nan\n",
      "nan\n",
      "nan\n",
      "nan\n",
      "nan\n",
      "nan\n",
      "nan\n",
      "nan\n",
      "nan\n",
      "nan\n",
      "nan\n",
      "nan\n",
      "nan\n",
      "nan\n",
      "nan\n",
      "nan\n",
      "nan\n",
      "nan\n",
      "nan\n",
      "nan\n",
      "nan\n",
      "nan\n",
      "nan\n",
      "nan\n",
      "nan\n",
      "nan\n",
      "nan\n",
      "nan\n",
      "nan\n"
     ]
    }
   ],
   "source": [
    "import random\n",
    "\n",
    "condition =  {'-1', '0', 'ندارد', None}\n",
    "## گرفتن لیست مقطع تحصیلی و حذف موارد اضافی\n",
    "education = ['سیکل', 'دیپلم', 'کاردانی', 'فوق دیپلم', 'لیسانس', 'کارشناسی', 'فوق لیسانس', 'کارشناسی ارشد', 'دکترا', 'فوق دکترا']\n",
    "\n",
    "\n",
    "index = df[df['مقطع تحصیلی'].isnull()].index\n",
    "for i in index:\n",
    "    print(df.loc[i, 'مقطع تحصیلی'])\n",
    "    age = df.loc[i, 'سن']\n",
    "\n",
    "    if (age > 30):\n",
    "         rand = random.randint(0, len(education)-1)    \n",
    "         df.loc[i, 'مقطع تحصیلی'] = education[rand]\n",
    "\n",
    "    elif (age > 25):\n",
    "         rand = random.randint(0, 7)\n",
    "         df.loc[i, 'مقطع تحصیلی'] = education[rand]\n",
    "\n",
    "    elif (age > 20):\n",
    "        rand = random.randint(0, 5)\n",
    "        df.loc[i, 'مقطع تحصیلی'] = education[rand]\n",
    "    else:\n",
    "        rand = random.randint(0, 1)\n",
    "        df.loc[i, 'مقطع تحصیلی'] = education[rand]\n",
    "        \n",
    "\n",
    "    \n",
    "data.to_csv('data/resume.csv')\n",
    "# df['مقطع تحصیلی'].fillna('ندارد', inplace=True)"
   ]
  },
  {
   "cell_type": "code",
   "execution_count": 215,
   "id": "85b7ebff-d318-44f9-a87f-df830f912c97",
   "metadata": {
    "editable": true,
    "slideshow": {
     "slide_type": ""
    },
    "tags": []
   },
   "outputs": [
    {
     "data": {
      "text/plain": [
       "Unnamed: 0              0\n",
       "نام                     0\n",
       "نام خانوادگی            0\n",
       "آدرس                  185\n",
       "جنسیت                   0\n",
       "معدل                    0\n",
       "مقطع تحصیلی            41\n",
       "رشته تحصیلی             0\n",
       "سن                      0\n",
       "مهارت                   0\n",
       "تجربه کاری(به سال)      0\n",
       "dtype: int64"
      ]
     },
     "execution_count": 215,
     "metadata": {},
     "output_type": "execute_result"
    }
   ],
   "source": [
    "data.isnull().sum()"
   ]
  },
  {
   "cell_type": "code",
   "execution_count": null,
   "id": "ab772890-9503-40e2-bcd9-9ad6e6bc02ae",
   "metadata": {},
   "outputs": [],
   "source": []
  }
 ],
 "metadata": {
  "kernelspec": {
   "display_name": "Python 3 (ipykernel)",
   "language": "python",
   "name": "python3"
  },
  "language_info": {
   "codemirror_mode": {
    "name": "ipython",
    "version": 3
   },
   "file_extension": ".py",
   "mimetype": "text/x-python",
   "name": "python",
   "nbconvert_exporter": "python",
   "pygments_lexer": "ipython3",
   "version": "3.11.5"
  }
 },
 "nbformat": 4,
 "nbformat_minor": 5
}
